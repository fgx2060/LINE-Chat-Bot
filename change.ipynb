{
 "cells": [
  {
   "cell_type": "code",
   "execution_count": null,
   "metadata": {},
   "outputs": [],
   "source": [
    "from opencc import OpenCC\n",
    "cc = OpenCC('s2t')                                     # 創建一個 OpenCC 實例，用於簡體字轉繁體字\n",
    "with open('train.txt', 'r', encoding='utf-8') as f:    # 讀取訓練數據集的文本文件\n",
    "    content = f.read()                                 # 將簡體字轉換成繁體字\n",
    "converted_content = cc.convert(content)                # 將轉換後的文本寫入新文件\n",
    "with open('train2.txt', 'w', encoding='utf-8') as f:\n",
    "    f.write(converted_content)\n",
    "print(\"轉換完成！\")"
   ]
  },
  {
   "cell_type": "code",
   "execution_count": 1,
   "metadata": {},
   "outputs": [
    {
     "name": "stdout",
     "output_type": "stream",
     "text": [
      "轉換完成！\n"
     ]
    }
   ],
   "source": [
    "from opencc import OpenCC\n",
    "cc = OpenCC('s2t')                                     # 創建一個 OpenCC 實例，用於簡體字轉繁體字\n",
    "with open('debug_word.txt', 'r', encoding='utf-8') as f:    # 讀取訓練數據集的文本文件\n",
    "    content = f.read()                                 # 將簡體字轉換成繁體字\n",
    "converted_content = cc.convert(content)                # 將轉換後的文本寫入新文件\n",
    "with open('debug_word2.txt', 'w', encoding='utf-8') as f:\n",
    "    f.write(converted_content)\n",
    "print(\"轉換完成！\")"
   ]
  }
 ],
 "metadata": {
  "kernelspec": {
   "display_name": "base",
   "language": "python",
   "name": "python3"
  },
  "language_info": {
   "codemirror_mode": {
    "name": "ipython",
    "version": 3
   },
   "file_extension": ".py",
   "mimetype": "text/x-python",
   "name": "python",
   "nbconvert_exporter": "python",
   "pygments_lexer": "ipython3",
   "version": "3.9.12"
  }
 },
 "nbformat": 4,
 "nbformat_minor": 2
}
